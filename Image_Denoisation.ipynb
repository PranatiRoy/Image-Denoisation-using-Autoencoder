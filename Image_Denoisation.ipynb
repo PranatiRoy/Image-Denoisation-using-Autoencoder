{
  "nbformat": 4,
  "nbformat_minor": 0,
  "metadata": {
    "colab": {
      "name": "Image Denoisation.ipynb",
      "provenance": []
    },
    "kernelspec": {
      "name": "python3",
      "display_name": "Python 3"
    },
    "language_info": {
      "name": "python"
    }
  },
  "cells": [
    {
      "cell_type": "markdown",
      "metadata": {
        "id": "KHJqzZHGoutb"
      },
      "source": [
        "Loading Mnist Dataset from keras library"
      ]
    },
    {
      "cell_type": "code",
      "metadata": {
        "colab": {
          "base_uri": "https://localhost:8080/"
        },
        "id": "48AZr7WAo4Zu",
        "outputId": "a3c5d683-6b92-4daf-8c35-236f49bd366d"
      },
      "source": [
        "from keras.datasets.fashion_mnist import load_data \n",
        "(X_train_full, y_train_full), (X_test, y_test) = load_data()"
      ],
      "execution_count": 2,
      "outputs": [
        {
          "output_type": "stream",
          "text": [
            "Downloading data from https://storage.googleapis.com/tensorflow/tf-keras-datasets/train-labels-idx1-ubyte.gz\n",
            "32768/29515 [=================================] - 0s 0us/step\n",
            "40960/29515 [=========================================] - 0s 0us/step\n",
            "Downloading data from https://storage.googleapis.com/tensorflow/tf-keras-datasets/train-images-idx3-ubyte.gz\n",
            "26427392/26421880 [==============================] - 0s 0us/step\n",
            "26435584/26421880 [==============================] - 0s 0us/step\n",
            "Downloading data from https://storage.googleapis.com/tensorflow/tf-keras-datasets/t10k-labels-idx1-ubyte.gz\n",
            "16384/5148 [===============================================================================================] - 0s 0us/step\n",
            "Downloading data from https://storage.googleapis.com/tensorflow/tf-keras-datasets/t10k-images-idx3-ubyte.gz\n",
            "4423680/4422102 [==============================] - 0s 0us/step\n",
            "4431872/4422102 [==============================] - 0s 0us/step\n"
          ],
          "name": "stdout"
        }
      ]
    },
    {
      "cell_type": "code",
      "metadata": {
        "id": "3ldzO4yXo8vQ"
      },
      "source": [
        "#Applying Max-Min Normalisation on the dataset\n",
        "X_train_full = X_train_full/255\n",
        "X_test = X_test / 255"
      ],
      "execution_count": 3,
      "outputs": []
    },
    {
      "cell_type": "code",
      "metadata": {
        "id": "T6lnPqq9pNwr"
      },
      "source": [
        "#Creation of Traing and Validation Dataset.\n",
        "X_train, X_valid = X_train_full[:55000], X_train_full[55000:]\n",
        "y_train, y_valid = y_train_full[:55000], y_train_full[55000:]\n"
      ],
      "execution_count": 4,
      "outputs": []
    },
    {
      "cell_type": "markdown",
      "metadata": {
        "id": "Xh5-_G1mpcox"
      },
      "source": [
        "#Model Build:\n"
      ]
    },
    {
      "cell_type": "markdown",
      "metadata": {
        "id": "kfM1GYmvqJrz"
      },
      "source": [
        "##Encoder Part"
      ]
    },
    {
      "cell_type": "code",
      "metadata": {
        "colab": {
          "base_uri": "https://localhost:8080/"
        },
        "id": "Svlnu55RpW-E",
        "outputId": "54786ef4-29b9-4229-88f3-59070f15a295"
      },
      "source": [
        "from keras import Sequential\n",
        "from keras.layers import Conv2D, MaxPool2D, GaussianNoise, Reshape\n",
        "\n",
        "encoder = Sequential([\n",
        "    Reshape([28, 28, 1], input_shape=[28, 28]),\n",
        "    GaussianNoise(0.2),\n",
        "    Conv2D(16, kernel_size=3, padding=\"SAME\", activation=\"selu\"),\n",
        "    MaxPool2D(pool_size=2),\n",
        "    Conv2D(32, kernel_size=3, padding=\"SAME\", activation=\"selu\"),\n",
        "    MaxPool2D(pool_size=2),\n",
        "    Conv2D(64, kernel_size=3, padding=\"SAME\", activation=\"selu\"),\n",
        "    MaxPool2D(pool_size=2)\n",
        "])\n",
        "encoder.summary()"
      ],
      "execution_count": 6,
      "outputs": [
        {
          "output_type": "stream",
          "text": [
            "Model: \"sequential_1\"\n",
            "_________________________________________________________________\n",
            "Layer (type)                 Output Shape              Param #   \n",
            "=================================================================\n",
            "reshape_1 (Reshape)          (None, 28, 28, 1)         0         \n",
            "_________________________________________________________________\n",
            "gaussian_noise_1 (GaussianNo (None, 28, 28, 1)         0         \n",
            "_________________________________________________________________\n",
            "conv2d_3 (Conv2D)            (None, 28, 28, 16)        160       \n",
            "_________________________________________________________________\n",
            "max_pooling2d_3 (MaxPooling2 (None, 14, 14, 16)        0         \n",
            "_________________________________________________________________\n",
            "conv2d_4 (Conv2D)            (None, 14, 14, 32)        4640      \n",
            "_________________________________________________________________\n",
            "max_pooling2d_4 (MaxPooling2 (None, 7, 7, 32)          0         \n",
            "_________________________________________________________________\n",
            "conv2d_5 (Conv2D)            (None, 7, 7, 64)          18496     \n",
            "_________________________________________________________________\n",
            "max_pooling2d_5 (MaxPooling2 (None, 3, 3, 64)          0         \n",
            "=================================================================\n",
            "Total params: 23,296\n",
            "Trainable params: 23,296\n",
            "Non-trainable params: 0\n",
            "_________________________________________________________________\n"
          ],
          "name": "stdout"
        }
      ]
    },
    {
      "cell_type": "markdown",
      "metadata": {
        "id": "mhHY3_u8prj_"
      },
      "source": [
        "##Decoder Part"
      ]
    },
    {
      "cell_type": "code",
      "metadata": {
        "colab": {
          "base_uri": "https://localhost:8080/"
        },
        "id": "8shxOJBHpbln",
        "outputId": "d66b4993-f17d-46a7-dcb1-992b70e88a97"
      },
      "source": [
        "from keras.layers import Conv2DTranspose\n",
        "\n",
        "decoder = Sequential([\n",
        "    Conv2DTranspose(64, kernel_size=3, strides=2, padding=\"VALID\", activation=\"selu\",\n",
        "                                 input_shape=[3, 3, 64]),\n",
        "    Conv2DTranspose(32, kernel_size=3, strides=2, padding=\"SAME\", activation=\"selu\"),\n",
        "    Conv2DTranspose(1, kernel_size=3, strides=2, padding=\"SAME\", activation=\"sigmoid\"),\n",
        "    Reshape([28, 28])\n",
        "])\n",
        "decoder.summary()"
      ],
      "execution_count": 7,
      "outputs": [
        {
          "output_type": "stream",
          "text": [
            "Model: \"sequential_2\"\n",
            "_________________________________________________________________\n",
            "Layer (type)                 Output Shape              Param #   \n",
            "=================================================================\n",
            "conv2d_transpose (Conv2DTran (None, 7, 7, 64)          36928     \n",
            "_________________________________________________________________\n",
            "conv2d_transpose_1 (Conv2DTr (None, 14, 14, 32)        18464     \n",
            "_________________________________________________________________\n",
            "conv2d_transpose_2 (Conv2DTr (None, 28, 28, 1)         289       \n",
            "_________________________________________________________________\n",
            "reshape_2 (Reshape)          (None, 28, 28)            0         \n",
            "=================================================================\n",
            "Total params: 55,681\n",
            "Trainable params: 55,681\n",
            "Non-trainable params: 0\n",
            "_________________________________________________________________\n"
          ],
          "name": "stdout"
        }
      ]
    },
    {
      "cell_type": "markdown",
      "metadata": {
        "id": "gdICmjGEqYG_"
      },
      "source": [
        "Model Configuration"
      ]
    },
    {
      "cell_type": "code",
      "metadata": {
        "colab": {
          "base_uri": "https://localhost:8080/"
        },
        "id": "2aJIVOF4qSh-",
        "outputId": "b77273cc-9906-4169-db66-e5e39277a7df"
      },
      "source": [
        "from keras.optimizers import SGD\n",
        "\n",
        "ae = Sequential([encoder,decoder])\n",
        "ae.compile(loss=\"binary_crossentropy\", optimizer=SGD(lr=0.5))\n",
        "ae.summary()"
      ],
      "execution_count": 8,
      "outputs": [
        {
          "output_type": "stream",
          "text": [
            "Model: \"sequential_3\"\n",
            "_________________________________________________________________\n",
            "Layer (type)                 Output Shape              Param #   \n",
            "=================================================================\n",
            "sequential_1 (Sequential)    (None, 3, 3, 64)          23296     \n",
            "_________________________________________________________________\n",
            "sequential_2 (Sequential)    (None, 28, 28)            55681     \n",
            "=================================================================\n",
            "Total params: 78,977\n",
            "Trainable params: 78,977\n",
            "Non-trainable params: 0\n",
            "_________________________________________________________________\n"
          ],
          "name": "stdout"
        },
        {
          "output_type": "stream",
          "text": [
            "/usr/local/lib/python3.7/dist-packages/tensorflow/python/keras/optimizer_v2/optimizer_v2.py:375: UserWarning: The `lr` argument is deprecated, use `learning_rate` instead.\n",
            "  \"The `lr` argument is deprecated, use `learning_rate` instead.\")\n"
          ],
          "name": "stderr"
        }
      ]
    },
    {
      "cell_type": "markdown",
      "metadata": {
        "id": "V8F6OCUewCbh"
      },
      "source": [
        "Model Training"
      ]
    },
    {
      "cell_type": "code",
      "metadata": {
        "colab": {
          "base_uri": "https://localhost:8080/"
        },
        "id": "nnOymVzuqbxp",
        "outputId": "d1dc1244-7da1-4b03-98df-4f4001f55814"
      },
      "source": [
        "history = ae.fit(X_train, X_train, epochs=20,\n",
        "                      validation_data=(X_valid, X_valid))"
      ],
      "execution_count": 9,
      "outputs": [
        {
          "output_type": "stream",
          "text": [
            "Epoch 1/20\n",
            "1719/1719 [==============================] - 68s 31ms/step - loss: 0.3528 - val_loss: 0.2884\n",
            "Epoch 2/20\n",
            "1719/1719 [==============================] - 51s 29ms/step - loss: 0.2877 - val_loss: 0.2809\n",
            "Epoch 3/20\n",
            "1719/1719 [==============================] - 50s 29ms/step - loss: 0.2817 - val_loss: 0.2776\n",
            "Epoch 4/20\n",
            "1719/1719 [==============================] - 51s 30ms/step - loss: 0.2799 - val_loss: 0.2767\n",
            "Epoch 5/20\n",
            "1719/1719 [==============================] - 51s 29ms/step - loss: 0.2771 - val_loss: 0.2746\n",
            "Epoch 6/20\n",
            "1719/1719 [==============================] - 50s 29ms/step - loss: 0.2761 - val_loss: 0.2735\n",
            "Epoch 7/20\n",
            "1719/1719 [==============================] - 50s 29ms/step - loss: 0.2755 - val_loss: 0.2729\n",
            "Epoch 8/20\n",
            "1719/1719 [==============================] - 51s 30ms/step - loss: 0.2746 - val_loss: 0.2724\n",
            "Epoch 9/20\n",
            "1719/1719 [==============================] - 51s 30ms/step - loss: 0.2740 - val_loss: 0.2716\n",
            "Epoch 10/20\n",
            "1719/1719 [==============================] - 50s 29ms/step - loss: 0.2730 - val_loss: 0.2717\n",
            "Epoch 11/20\n",
            "1719/1719 [==============================] - 51s 29ms/step - loss: 0.2721 - val_loss: 0.2706\n",
            "Epoch 12/20\n",
            "1719/1719 [==============================] - 51s 29ms/step - loss: 0.2717 - val_loss: 0.2713\n",
            "Epoch 13/20\n",
            "1719/1719 [==============================] - 50s 29ms/step - loss: 0.2708 - val_loss: 0.2701\n",
            "Epoch 14/20\n",
            "1719/1719 [==============================] - 51s 30ms/step - loss: 0.2709 - val_loss: 0.2699\n",
            "Epoch 15/20\n",
            "1719/1719 [==============================] - 50s 29ms/step - loss: 0.2707 - val_loss: 0.2709\n",
            "Epoch 16/20\n",
            "1719/1719 [==============================] - 51s 29ms/step - loss: 0.2701 - val_loss: 0.2689\n",
            "Epoch 17/20\n",
            "1719/1719 [==============================] - 70s 41ms/step - loss: 0.2686 - val_loss: 0.2692\n",
            "Epoch 18/20\n",
            "1719/1719 [==============================] - 51s 30ms/step - loss: 0.2689 - val_loss: 0.2685\n",
            "Epoch 19/20\n",
            "1719/1719 [==============================] - 51s 30ms/step - loss: 0.2695 - val_loss: 0.2683\n",
            "Epoch 20/20\n",
            "1719/1719 [==============================] - 51s 30ms/step - loss: 0.2688 - val_loss: 0.2672\n"
          ],
          "name": "stdout"
        }
      ]
    },
    {
      "cell_type": "markdown",
      "metadata": {
        "id": "F4BDu_zwwFPK"
      },
      "source": [
        "Result Visualization"
      ]
    },
    {
      "cell_type": "code",
      "metadata": {
        "colab": {
          "base_uri": "https://localhost:8080/",
          "height": 547
        },
        "id": "xXHcZ6diqg5H",
        "outputId": "729de4ff-a27d-4fbf-cecd-8a245b806c46"
      },
      "source": [
        "import matplotlib.pyplot as plt\n",
        "\n",
        "corrupted_images = GaussianNoise(0.2)(X_valid[8:13], training=True)\n",
        "reconstructed_images = ae.predict(corrupted_images)\n",
        "plt.figure(figsize=(15,12))\n",
        "for i in range(5):\n",
        "    plt.subplot(2,5,1+i)\n",
        "    plt.imshow(corrupted_images[i], cmap='binary')\n",
        "    plt.axis('off')\n",
        "    plt.title('Noisy Image')\n",
        "    plt.subplot(2,5,6+i)\n",
        "    plt.imshow(reconstructed_images[i], cmap='binary')\n",
        "    plt.axis('off')\n",
        "    plt.title('Image after denoising')\n",
        "plt.show()"
      ],
      "execution_count": 14,
      "outputs": [
        {
          "output_type": "display_data",
          "data": {
            "image/png": "[encoded data removed]",
            "text/plain": [
              "<Figure size 1080x864 with 10 Axes>"
            ]
          },
          "metadata": {
            "tags": [],
            "needs_background": "light"
          }
        }
      ]
    }
  ]
}